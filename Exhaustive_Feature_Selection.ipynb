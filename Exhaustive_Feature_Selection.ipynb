{
  "nbformat": 4,
  "nbformat_minor": 0,
  "metadata": {
    "colab": {
      "name": "Exhaustive Feature Selection.ipynb",
      "provenance": [],
      "authorship_tag": "ABX9TyOJUGtH4RwvA7NVyhJ6L906",
      "include_colab_link": true
    },
    "kernelspec": {
      "name": "python3",
      "display_name": "Python 3"
    },
    "language_info": {
      "name": "python"
    }
  },
  "cells": [
    {
      "cell_type": "markdown",
      "metadata": {
        "id": "view-in-github",
        "colab_type": "text"
      },
      "source": [
        "<a href=\"https://colab.research.google.com/github/kubrayigitbasi/data.kubra/blob/main/Exhaustive_Feature_Selection.ipynb\" target=\"_parent\"><img src=\"https://colab.research.google.com/assets/colab-badge.svg\" alt=\"Open In Colab\"/></a>"
      ]
    },
    {
      "cell_type": "code",
      "execution_count": 1,
      "metadata": {
        "id": "6RMc7pijmpS8"
      },
      "outputs": [],
      "source": [
        "import pandas as pd\n",
        "import numpy as np\n",
        "from sklearn.model_selection import train_test_split\n",
        "from sklearn.feature_selection import VarianceThreshold"
      ]
    },
    {
      "cell_type": "code",
      "source": [
        "paribas_akut = pd.read_csv(r\"https://raw.githubusercontent.com/kubrayigitbasi/data_kubra/main/akut_b%C3%B6brek_data.csv\", nrows=20000)\n",
        "paribas_akut.shape"
      ],
      "metadata": {
        "colab": {
          "base_uri": "https://localhost:8080/"
        },
        "id": "E0ndYVLrmyTR",
        "outputId": "37e49a78-3108-4c0d-a2a5-63dbec18b64c"
      },
      "execution_count": 3,
      "outputs": [
        {
          "output_type": "execute_result",
          "data": {
            "text/plain": [
              "(458, 45)"
            ]
          },
          "metadata": {},
          "execution_count": 3
        }
      ]
    },
    {
      "cell_type": "code",
      "source": [
        "num_colums = ['int16', 'int32', 'int64', 'float16', 'float32', 'float64']\n",
        "numerical_columns = list(paribas_akut.select_dtypes(include=num_colums).columns)\n",
        "paribas_akut = paribas_akut[numerical_columns]\n",
        "paribas_akut.shape"
      ],
      "metadata": {
        "colab": {
          "base_uri": "https://localhost:8080/"
        },
        "id": "wfhKCDUbnQxE",
        "outputId": "39cda0e1-64f2-4f97-afad-6c6699ab3ffb"
      },
      "execution_count": 4,
      "outputs": [
        {
          "output_type": "execute_result",
          "data": {
            "text/plain": [
              "(458, 45)"
            ]
          },
          "metadata": {},
          "execution_count": 4
        }
      ]
    },
    {
      "cell_type": "code",
      "source": [
        "train_features, test_features, train_labels, test_labels = train_test_split(\n",
        "    paribas_akut.drop(labels=['BMI', 'HTA'], axis=1),\n",
        "    paribas_akut['BMI'],\n",
        "    test_size=0.2,\n",
        "    random_state=41)"
      ],
      "metadata": {
        "id": "9ZTfFclunc2J"
      },
      "execution_count": 6,
      "outputs": []
    },
    {
      "cell_type": "code",
      "source": [
        "correlated_features = set()\n",
        "correlation_matrix = paribas_akut.corr()\n",
        "for i in range(len(correlation_matrix .columns)):\n",
        "    for j in range(i):\n",
        "        if abs(correlation_matrix.iloc[i, j]) > 0.8:\n",
        "            colname = correlation_matrix.columns[i]\n",
        "            correlated_features.add(colname)"
      ],
      "metadata": {
        "id": "4-kLJJJNn8dM"
      },
      "execution_count": 7,
      "outputs": []
    },
    {
      "cell_type": "code",
      "source": [
        "train_features.drop(labels=correlated_features, axis=1, inplace=True)\n",
        "test_features.drop(labels=correlated_features, axis=1, inplace=True)"
      ],
      "metadata": {
        "id": "BXUw4NEGoER5"
      },
      "execution_count": 8,
      "outputs": []
    },
    {
      "cell_type": "code",
      "source": [
        "train_features.shape, test_features.shape"
      ],
      "metadata": {
        "colab": {
          "base_uri": "https://localhost:8080/"
        },
        "id": "rt-XfaIaoJYB",
        "outputId": "dec23e7a-48d3-46e9-b806-c92dcc6615db"
      },
      "execution_count": 9,
      "outputs": [
        {
          "output_type": "execute_result",
          "data": {
            "text/plain": [
              "((366, 38), (92, 38))"
            ]
          },
          "metadata": {},
          "execution_count": 9
        }
      ]
    },
    {
      "cell_type": "code",
      "source": [
        "conda install -c conda-forge mlxtend"
      ],
      "metadata": {
        "id": "AGo0Iq-Vqcos"
      },
      "execution_count": null,
      "outputs": []
    },
    {
      "cell_type": "code",
      "source": [
        "from sklearn.ensemble import RandomForestRegressor, RandomForestClassifier\n",
        "from sklearn.metrics import roc_auc_score\n",
        "\n",
        "from mlxtend.feature_selection import SequentialFeatureSelector\n",
        "\n",
        "feature_selector = SequentialFeatureSelector(RandomForestClassifier(n_jobs=-1),\n",
        "           k_features=15,\n",
        "           forward=True,\n",
        "           verbose=2,\n",
        "           scoring='roc_auc',\n",
        "           cv=4)"
      ],
      "metadata": {
        "id": "690Al01XqqE9"
      },
      "execution_count": null,
      "outputs": []
    },
    {
      "cell_type": "code",
      "source": [
        "features = feature_selector.fit(np.array(train_features.fillna(0)), train_labels)"
      ],
      "metadata": {
        "id": "5_3k1e0yqyNb"
      },
      "execution_count": null,
      "outputs": []
    },
    {
      "cell_type": "code",
      "source": [
        "filtered_features= train_features.columns[list(features.k_feature_idx_)]\n",
        "filtered_features"
      ],
      "metadata": {
        "id": "Jn9et-_5q2T_"
      },
      "execution_count": null,
      "outputs": []
    },
    {
      "cell_type": "code",
      "source": [
        "Index(['v4', 'v10', 'v14', 'v15', 'v18', 'v20', 'v23', 'v34', 'v38', 'v42',\n",
        "       'v50', 'v51', 'v69', 'v72', 'v129'],\n",
        "      dtype='object')"
      ],
      "metadata": {
        "id": "c-syurdUq6U3"
      },
      "execution_count": null,
      "outputs": []
    },
    {
      "cell_type": "code",
      "source": [
        "clf = RandomForestClassifier(n_estimators=100, random_state=41, max_depth=3)\n",
        "clf.fit(train_features[filtered_features].fillna(0), train_labels)\n",
        "\n",
        "train_pred = clf.predict_proba(train_features[filtered_features].fillna(0))\n",
        "print('Accuracy on training set: {}'.format(roc_auc_score(train_labels, train_pred[:,1])))\n",
        "\n",
        "test_pred = clf.predict_proba(test_features[filtered_features].fillna(0))\n",
        "print('Accuracy on test set: {}'.format(roc_auc_score(test_labels, test_pred [:,1])))"
      ],
      "metadata": {
        "id": "gxPN86daq-t8"
      },
      "execution_count": null,
      "outputs": []
    },
    {
      "cell_type": "code",
      "source": [
        "Accuracy on training set: 0.7072327148174093\n",
        "Accuracy on test set: 0.7096973252804142"
      ],
      "metadata": {
        "id": "roHFdb8orDZT"
      },
      "execution_count": null,
      "outputs": []
    },
    {
      "cell_type": "code",
      "source": [
        "from sklearn.ensemble import RandomForestRegressor, RandomForestClassifier\n",
        "from sklearn.metrics import roc_auc_score\n",
        "from mlxtend.feature_selection import SequentialFeatureSelector\n",
        "\n",
        "feature_selector = SequentialFeatureSelector(RandomForestClassifier(n_jobs=-1),\n",
        "           k_features=15,\n",
        "           forward=False,\n",
        "           verbose=2,\n",
        "           scoring='roc_auc',\n",
        "           cv=4)\n",
        "\n",
        "features = feature_selector.fit(np.array(train_features.fillna(0)), train_labels)"
      ],
      "metadata": {
        "id": "qBA5PWf5rMH5"
      },
      "execution_count": null,
      "outputs": []
    },
    {
      "cell_type": "code",
      "source": [
        "filtered_features= train_features.columns[list(features.k_feature_idx_)]\n",
        "filtered_features"
      ],
      "metadata": {
        "id": "WOWDSIJdrRyK"
      },
      "execution_count": null,
      "outputs": []
    },
    {
      "cell_type": "code",
      "source": [
        "filtered_features= train_features.columns[list(features.k_feature_idx_)]\n",
        "filtered_features"
      ],
      "metadata": {
        "id": "AD4i2QRprXc-"
      },
      "execution_count": null,
      "outputs": []
    },
    {
      "cell_type": "code",
      "source": [
        "clf = RandomForestClassifier(n_estimators=100, random_state=41, max_depth=3)\n",
        "clf.fit(train_features[filtered_features].fillna(0), train_labels)\n",
        "\n",
        "train_pred = clf.predict_proba(train_features[filtered_features].fillna(0))\n",
        "print('Accuracy on training set: {}'.format(roc_auc_score(train_labels, train_pred[:,1])))\n",
        "\n",
        "test_pred = clf.predict_proba(test_features[filtered_features].fillna(0))\n",
        "print('Accuracy on test set: {}'.format(roc_auc_score(test_labels, test_pred [:,1])))"
      ],
      "metadata": {
        "id": "gHbzIVsarcbn"
      },
      "execution_count": null,
      "outputs": []
    },
    {
      "cell_type": "code",
      "source": [
        "Accuracy on training set: 0.7095207938140247\n",
        "Accuracy on test set: 0.7114624676445211"
      ],
      "metadata": {
        "id": "FZm6rbQNrgop"
      },
      "execution_count": null,
      "outputs": []
    },
    {
      "cell_type": "code",
      "source": [
        "from mlxtend.feature_selection import ExhaustiveFeatureSelector\n",
        "from sklearn.ensemble import RandomForestRegressor, RandomForestClassifier\n",
        "from sklearn.metrics import roc_auc_score\n",
        "\n",
        "feature_selector = ExhaustiveFeatureSelector(RandomForestClassifier(n_jobs=-1),\n",
        "           min_features=2,\n",
        "           max_features=4,\n",
        "           scoring='roc_auc',\n",
        "           print_progress=True,\n",
        "           cv=2)"
      ],
      "metadata": {
        "id": "MmrFqjdxrqAz"
      },
      "execution_count": null,
      "outputs": []
    },
    {
      "cell_type": "code",
      "source": [
        "features = feature_selector.fit(np.array(train_features.fillna(0)), train_labels)"
      ],
      "metadata": {
        "id": "nUGWzo-ErvYY"
      },
      "execution_count": null,
      "outputs": []
    },
    {
      "cell_type": "code",
      "source": [
        "filtered_features= train_features.columns[list(features.k_feature_idx_)]\n",
        "filtered_features"
      ],
      "metadata": {
        "id": "nfFfvO9vrzIQ"
      },
      "execution_count": null,
      "outputs": []
    },
    {
      "cell_type": "code",
      "source": [
        "clf = RandomForestClassifier(n_estimators=100, random_state=41, max_depth=3)\n",
        "clf.fit(train_features[filtered_features].fillna(0), train_labels)\n",
        "\n",
        "train_pred = clf.predict_proba(train_features[filtered_features].fillna(0))\n",
        "print('Accuracy on training set: {}'.format(roc_auc_score(train_labels, train_pred[:,1])))\n",
        "\n",
        "test_pred = clf.predict_proba(test_features[filtered_features].fillna(0))\n",
        "print('Accuracy on test set: {}'.format(roc_auc_score(test_labels, test_pred [:,1])))"
      ],
      "metadata": {
        "id": "_ewQucBcr2mn"
      },
      "execution_count": null,
      "outputs": []
    }
  ]
}